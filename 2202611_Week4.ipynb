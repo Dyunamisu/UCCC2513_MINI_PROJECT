{
 "cells": [
  {
   "cell_type": "markdown",
   "id": "f90cb6c2-783d-4243-a045-c00f6020c884",
   "metadata": {},
   "source": [
    "### Exercise"
   ]
  },
  {
   "cell_type": "markdown",
   "id": "8dc88c66-2e64-4e5f-ab97-1c0c6bb32fa2",
   "metadata": {},
   "source": [
    "##### 1) Display the blue, green and red channel of the lena image simultaneously. Comment on the images displayed."
   ]
  },
  {
   "cell_type": "code",
   "execution_count": 40,
   "id": "d7325f80-078c-423c-b2ed-881650136a0a",
   "metadata": {},
   "outputs": [
    {
     "name": "stdout",
     "output_type": "stream",
     "text": [
      "Is OpenCV Running on optimzed code? True\n"
     ]
    }
   ],
   "source": [
    "import cv2 as cv\n",
    "import numpy as np\n",
    "from utils import *\n",
    "\n",
    "if not cv.useOptimized():\n",
    "    cv.setUseOptimized(True)\n",
    "print(f\"Is OpenCV Running on optimzed code? {cv.useOptimized()}\")"
   ]
  },
  {
   "cell_type": "code",
   "execution_count": 41,
   "id": "8de1e7cc-6c70-4378-8c92-f73f280b2b8f",
   "metadata": {},
   "outputs": [],
   "source": [
    "img = cv.imread(\"images/lena.jfif\")\n",
    "b, g, r = cv.split(img)\n",
    "zeros = np.zeros(b.shape, np.uint8)\n",
    "blue = cv.merge((b, zeros, zeros))\n",
    "green = cv.merge((zeros, g, zeros))\n",
    "red = cv.merge((zeros, zeros, r))\n",
    "display_images([blue, green,red], (\"blue\", \"green\", \"red\"))"
   ]
  },
  {
   "cell_type": "markdown",
   "id": "5e83dfb0-3ee4-40c8-9ddc-7e8d848a9276",
   "metadata": {},
   "source": [
    "##### 2) Display the following images which originates from the file \"images/dog.jfif\"."
   ]
  },
  {
   "cell_type": "code",
   "execution_count": 42,
   "id": "51f22dea-1f8a-4b20-b866-bbd458335f72",
   "metadata": {},
   "outputs": [],
   "source": [
    "img = cv.imread(\"images/dog.jfif\")\n",
    "b, g, r = cv.split(img)\n",
    "zeros = np.zeros(b.shape, np.uint8)\n",
    "blue = cv.merge((b, zeros, zeros))\n",
    "green = cv.merge((zeros, g, zeros))\n",
    "red = cv.merge((zeros, zeros, r))\n",
    "display_images([blue, green,red], (\"blue\", \"green\", \"red\"))"
   ]
  },
  {
   "cell_type": "markdown",
   "id": "348a940a-93ad-4c5f-b9e3-af150d3171eb",
   "metadata": {},
   "source": [
    "# Weekly activity"
   ]
  },
  {
   "cell_type": "markdown",
   "id": "598e2260-66f8-44c6-8a32-a7b3fd55cb54",
   "metadata": {},
   "source": [
    "##### 1) Create a random noise color and grayscale image. You can set your own width and height, but keep the total number of pixels of both images identical."
   ]
  },
  {
   "cell_type": "code",
   "execution_count": 43,
   "id": "41032949-ba54-43b9-ba93-4541580244d7",
   "metadata": {},
   "outputs": [
    {
     "data": {
      "image/png": "[encoded data removed]",
      "text/plain": [
       "<Figure size 640x480 with 1 Axes>"
      ]
     },
     "metadata": {},
     "output_type": "display_data"
    },
    {
     "data": {
      "image/png": "[encoded data removed]",
      "text/plain": [
       "<Figure size 640x480 with 1 Axes>"
      ]
     },
     "metadata": {},
     "output_type": "display_data"
    }
   ],
   "source": [
    "import matplotlib.pyplot as plt\n",
    "\n",
    "width, height = 30, 30\n",
    "color_image = np.random.randint(0, 256, (height, width, 3), dtype=np.uint8)\n",
    "grayscale_image = np.random.randint(0, 256, (height, width), dtype=np.uint8)\n",
    "plt.imshow(color_image,cmap=\"gray\",vmin=0,vmax=255)\n",
    "plt.show()\n",
    "plt.imshow(grayscale_image,cmap=\"gray\",vmin=0,vmax=255)\n",
    "plt.show()"
   ]
  },
  {
   "cell_type": "markdown",
   "id": "cb21b38e-ab91-4757-a66c-aa3fe6667305",
   "metadata": {},
   "source": [
    "##### 2)Convert the code chunk found under section Divide an image into smaller patches using cropping into a function with the following signature:crop_grid(img, num_horizontal_grid, num_vertical_grid, line_color)\n",
    "#####  # img is the source image\n",
    "##### # num_horizontal_grid and num_vertical_grid are the number of patches along x and y axes.\n",
    "##### # line_color is the color of the grid line.\n",
    "##### # The output of the function should be image with grids"
   ]
  },
  {
   "cell_type": "code",
   "execution_count": 44,
   "id": "5dd71207-d5bb-46dc-982f-7d33995355fc",
   "metadata": {},
   "outputs": [],
   "source": [
    "def crop_grid(img, num_horizontal_grid, num_vertical_grid, line_color):\n",
    "    \"\"\"\n",
    "    Divide an image into smaller patches using cropping\n",
    "    Parameters:\n",
    "    - img: Source image (numpy array).\n",
    "    - num_horizontal_grid: Number of patches along the x-axis.\n",
    "    - num_vertical_grid: Number of patches along the y-axis.\n",
    "    - line_color: Color of the grid lines.\n",
    "    Returns:\n",
    "    - Image with grids drawn.\n",
    "    \"\"\"\n",
    "    height, width = img.shape[:2]\n",
    "    M, N = int(height / num_vertical_grid), int(width / num_horizontal_grid)\n",
    "    \n",
    "    img_copy = img.copy()\n",
    "    \n",
    "    x1, y1 = 0, 0\n",
    "\n",
    "    for y in range(0, height, M):\n",
    "        for x in range(0, width, N):\n",
    "        \n",
    "            y1 = y + M\n",
    "            x1 = x + N\n",
    "            \n",
    "            if x1 >= width and y1 >= height:\n",
    "                y1 = height -1\n",
    "                x1 = width  -1 \n",
    "                cv.rectangle(img_copy,(x,y),(x1,y1),line_color,1)\n",
    "            elif x1 >= width:\n",
    "                x1 = width -1 \n",
    "                cv.rectangle(img_copy,(x,y),(x1,y1),line_color,1)\n",
    "            elif y1 >= height:\n",
    "                y1 = height -1 \n",
    "                cv.rectangle(img_copy,(x,y),(x1,y1),line_color,1)\n",
    "            else:\n",
    "                cv.rectangle(img_copy,(x,y),(x1,y1),line_color,1)\n",
    "    return img_copy"
   ]
  },
  {
   "cell_type": "code",
   "execution_count": 45,
   "id": "a21350ca-d2d1-4c53-a223-59a153ee6803",
   "metadata": {},
   "outputs": [],
   "source": [
    "# Test Case 1\n",
    "img = cv.imread('images/lena.jfif')\n",
    "num_horizontal_grid = 3\n",
    "num_vertical_grid = 5\n",
    "line_color = (0, 0, 255)  # Red Color\n",
    "img_grided = crop_grid(img, num_horizontal_grid, num_vertical_grid, line_color)\n",
    "display_image(\"img_grided\",img_grided)"
   ]
  },
  {
   "cell_type": "code",
   "execution_count": 46,
   "id": "12de83f0-9b5e-4403-bb28-d15adfa6d522",
   "metadata": {},
   "outputs": [],
   "source": [
    "# Test Case 2\n",
    "img = cv.imread('images/lena.jfif')\n",
    "num_horizontal_grid = 5\n",
    "num_vertical_grid = 2\n",
    "line_color = (255, 0, 0)  # Blue Color\n",
    "img_grided = crop_grid(img, num_horizontal_grid, num_vertical_grid, line_color)\n",
    "display_image(\"img_grided\",img_grided)"
   ]
  },
  {
   "cell_type": "markdown",
   "id": "df6e15bf-dba8-4c71-9019-87f274a7cfb4",
   "metadata": {},
   "source": [
    "##### 3) How would you change the brightness of a color image? Suggest two ways to perform the image processing operations. Implement your methods by providing the example codes. You are free to choose any image."
   ]
  },
  {
   "cell_type": "code",
   "execution_count": 47,
   "id": "4c856d8a-81c9-49bf-8412-8868790949e4",
   "metadata": {},
   "outputs": [],
   "source": [
    "def point_op(img, alpha, beta):\n",
    "    \"\"\"Point operator function\n",
    "    Argument:\n",
    "    ---\n",
    "    img: input image\n",
    "    alpha: coefficient\n",
    "    beta: bias\n",
    "    \n",
    "    Returns:\n",
    "    ---\n",
    "    Unsigned 8-bit image array\"\"\"\n",
    "    img = img.astype(\"float32\")\n",
    "    res = alpha * img + beta\n",
    "    # clip the pixel values \n",
    "    res = np.clip(res, 0, 255)\n",
    "    return np.uint8(res)"
   ]
  },
  {
   "cell_type": "code",
   "execution_count": 53,
   "id": "6c0d970c-ffb1-46d0-ae69-a930e1372f9b",
   "metadata": {},
   "outputs": [],
   "source": [
    "# First method increase alpha > 1\n",
    "img = cv.imread(\"images/dog.png\")\n",
    "alpha = 1.8\n",
    "dst = point_op(img,alpha,0)\n",
    "display_images([img,dst],(\"original\",\"enhanced\"))"
   ]
  },
  {
   "cell_type": "code",
   "execution_count": 56,
   "id": "1cb0b173-aaab-4ed9-98df-0d97376f6c08",
   "metadata": {},
   "outputs": [],
   "source": [
    "# Second method increase beta > 0\n",
    "img = cv.imread(\"images/dog.png\")\n",
    "beta = 100\n",
    "dst = point_op(img,1,beta)\n",
    "display_images([img,dst],(\"original\",\"enhanced\"))"
   ]
  },
  {
   "cell_type": "markdown",
   "id": "5af04beb-18e8-4915-87b6-97652fd7f0b6",
   "metadata": {},
   "source": [
    "##### 4) Provide at least one common use cases for the following color spaces:\n",
    "- RGB\n",
    "- HSV\n",
    "- CIELAB"
   ]
  },
  {
   "cell_type": "markdown",
   "id": "643a65bf-0847-4ff9-8b94-86a5d0c9d124",
   "metadata": {},
   "source": [
    "1. RGB\n",
    "Use Case: Digital Displays and Photography\n",
    "2. HSV\n",
    "Use Case: Image Processing and Color Selection\n",
    "3. CIELAB\n",
    "Use Case: Color Matching and Color Management"
   ]
  }
 ],
 "metadata": {
  "kernelspec": {
   "display_name": "Python 3 (ipykernel)",
   "language": "python",
   "name": "python3"
  },
  "language_info": {
   "codemirror_mode": {
    "name": "ipython",
    "version": 3
   },
   "file_extension": ".py",
   "mimetype": "text/x-python",
   "name": "python",
   "nbconvert_exporter": "python",
   "pygments_lexer": "ipython3",
   "version": "3.10.5"
  }
 },
 "nbformat": 4,
 "nbformat_minor": 5
}
