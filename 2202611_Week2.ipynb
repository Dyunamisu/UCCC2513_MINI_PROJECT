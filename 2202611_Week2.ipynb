{
 "cells": [
  {
   "cell_type": "markdown",
   "id": "44a6da3a-7ad9-43c3-aa0f-80cb0f1030c7",
   "metadata": {},
   "source": [
    "## Exercises\n",
    "### 1)\n",
    "\n",
    "| Data Type | Range |\n",
    "| ------- | --------- |\n",
    "| `uint8` | 0 to 255 |\n",
    "| `int8` | -128 to 127 |\n",
    "| `uint32` | 0 to 4,294,967,295 |\n",
    "| `int32` | −2,147,483,648 to 2,147,483,647 |"
   ]
  },
  {
   "cell_type": "markdown",
   "id": "959ea00f-0000-4811-9512-7582350a58e2",
   "metadata": {},
   "source": [
    "### 2)"
   ]
  },
  {
   "cell_type": "code",
   "execution_count": 2,
   "id": "6cb5c563-b197-4389-a1d8-be1aecd0ae78",
   "metadata": {},
   "outputs": [],
   "source": [
    "def odd_even(x):\n",
    "    \"\"\"Function to check an integer is odd or even\n",
    "    Input: x must be integer\n",
    "    Return: a statement of whether the integer is odd or even\"\"\"\n",
    "    if isinstance(x, int):\n",
    "        if (x % 2 == 0) and (x != 0):\n",
    "            print(f\"{x} is even\")\n",
    "        elif x % 2 == 1:\n",
    "            print(f\"{x} is odd\")\n",
    "        else:\n",
    "            print(f\"{x} is neither even nor odd\")\n",
    "    else:\n",
    "        print(f\"{x} is not an integer\")"
   ]
  },
  {
   "cell_type": "code",
   "execution_count": 5,
   "id": "6b202e95-7df6-4ab8-aef8-fe009de4cbf3",
   "metadata": {},
   "outputs": [
    {
     "name": "stdout",
     "output_type": "stream",
     "text": [
      "0 is neither even nor odd\n",
      "1 is odd\n",
      "2 is even\n"
     ]
    }
   ],
   "source": [
    "odd_even(0)\n",
    "odd_even(1)\n",
    "odd_even(2)"
   ]
  },
  {
   "cell_type": "markdown",
   "id": "5c5df1b4-205f-4351-ba40-8ed738b3fc09",
   "metadata": {},
   "source": [
    "### 3)"
   ]
  },
  {
   "cell_type": "code",
   "execution_count": 7,
   "id": "57884c34-9b43-456b-bcdb-999ee628f6f0",
   "metadata": {},
   "outputs": [
    {
     "name": "stdout",
     "output_type": "stream",
     "text": [
      "Numpy array is efficient than Python List\n"
     ]
    }
   ],
   "source": [
    "import numpy as np\n",
    "import time\n",
    "\n",
    "size = 1000000\n",
    " \n",
    "list1 = range(size)\n",
    "list2 = range(size)\n",
    " \n",
    "array1 = np.arange(size)\n",
    "array2 = np.arange(size)\n",
    "\n",
    "time1 = time.time()\n",
    "listResult = [(a * b) for a, b in zip(list1, list2)]\n",
    " \n",
    "time2 = time.time()\n",
    "arrayResult = array1 * array2\n",
    "\n",
    "if time1 > time2:\n",
    "    print(\"Python List is efficient than Numpy array\")\n",
    "else:\n",
    "    print(\"Numpy array is efficient than Python List\")"
   ]
  },
  {
   "cell_type": "markdown",
   "id": "6382610a-0df3-4f11-8e59-278aa7151830",
   "metadata": {},
   "source": [
    "### 4)"
   ]
  },
  {
   "cell_type": "code",
   "execution_count": 9,
   "id": "083639b0-d7c0-44c3-a007-25c44e71ffd8",
   "metadata": {},
   "outputs": [
    {
     "name": "stdout",
     "output_type": "stream",
     "text": [
      "Initial my_arr:  [0 1 2 3 4 5 6 7 8 9]\n",
      "Initial arr_slice:  [0 1 2 3 4 5 6 7 8 9]\n",
      "my_arr:  [0 1 2 3 4 5 6 7 8 9]\n",
      "arr_slice:  [55  1  2  3  4  5  6  7  8  9]\n"
     ]
    }
   ],
   "source": [
    "# create a 1D array\n",
    "my_arr = np.arange(10)\n",
    "print(\"Initial my_arr: \", my_arr)\n",
    "arr_slice = my_arr.copy()\n",
    "print(\"Initial arr_slice: \", arr_slice)\n",
    "\n",
    "# change the first element of arr_slice\n",
    "arr_slice[0] = 55\n",
    "\n",
    "print(\"my_arr: \", my_arr)\n",
    "print(\"arr_slice: \", arr_slice)"
   ]
  },
  {
   "cell_type": "markdown",
   "id": "147d1026-9541-44f6-8c05-e7292fd4b787",
   "metadata": {},
   "source": [
    "### 5)"
   ]
  },
  {
   "cell_type": "code",
   "execution_count": 10,
   "id": "89785365-76be-476d-986f-1a267f7ce1f4",
   "metadata": {},
   "outputs": [
    {
     "data": {
      "image/png": "[encoded data removed]",
      "text/plain": [
       "<Figure size 640x480 with 1 Axes>"
      ]
     },
     "metadata": {},
     "output_type": "display_data"
    }
   ],
   "source": [
    "import numpy as np\n",
    "import matplotlib.pyplot as plt\n",
    "\n",
    "black_bg_img = np.zeros((100, 100, 3), dtype=np.uint8)\n",
    "\n",
    "center_x, center_y = 50, 50\n",
    "radius = 20\n",
    "Y, X = np.ogrid[:100, :100]\n",
    "circle_mask = (X - center_x)**2 + (Y - center_y)**2 <= radius**2\n",
    "black_bg_img[circle_mask] = [255, 255, 255]\n",
    "\n",
    "plt.imshow(black_bg_img)\n",
    "plt.title(\"Black Background with a circle\")\n",
    "plt.xticks([]), plt.yticks([])\n",
    "plt.show()"
   ]
  }
 ],
 "metadata": {
  "kernelspec": {
   "display_name": "Python 3 (ipykernel)",
   "language": "python",
   "name": "python3"
  },
  "language_info": {
   "codemirror_mode": {
    "name": "ipython",
    "version": 3
   },
   "file_extension": ".py",
   "mimetype": "text/x-python",
   "name": "python",
   "nbconvert_exporter": "python",
   "pygments_lexer": "ipython3",
   "version": "3.10.5"
  }
 },
 "nbformat": 4,
 "nbformat_minor": 5
}
