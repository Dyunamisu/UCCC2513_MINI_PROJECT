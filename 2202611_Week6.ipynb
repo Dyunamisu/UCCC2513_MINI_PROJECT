{
 "cells": [
  {
   "cell_type": "code",
   "execution_count": 2,
   "id": "aff059c3-dfcc-47fb-b0bc-b7871ed649e0",
   "metadata": {},
   "outputs": [
    {
     "data": {
      "text/plain": [
       "True"
      ]
     },
     "execution_count": 2,
     "metadata": {},
     "output_type": "execute_result"
    }
   ],
   "source": [
    "import cv2 as cv\n",
    "import numpy as np\n",
    "import matplotlib.pyplot as plt\n",
    "from utils import display_image, display_images\n",
    "if cv.useOptimized():\n",
    "    cv.setUseOptimized(True)\n",
    "\n",
    "cv.useOptimized()"
   ]
  },
  {
   "cell_type": "markdown",
   "id": "33ce38c1-e837-4eae-bdfe-c4f6fd6b7f1f",
   "metadata": {},
   "source": [
    "##### 1. Apply custom sharpening kernel of aperture size 3 and 5 as shown below on 'native-bee.png':  \n",
    "$ 3 \\times 3$ kernel:  \n",
    "$ \\begin{bmatrix}\n",
    "0 & -1 & 0 \\\\\n",
    "-1 & 5 & -1 \\\\\n",
    "0 & -1 & 0\\\\\n",
    "\\end{bmatrix}$  \n",
    "$ 5 \\times 5$ kernel:  \n",
    "$ \\begin{bmatrix}\n",
    "-1 & -1 & -1 & -1 & -1 \\\\\n",
    "-1 & -1 & -1 & -1 & -1 \\\\\n",
    "-1 & -1 & 25 & -1 & -1 \\\\\n",
    "-1 & -1 & -1 & -1 & -1 \\\\\n",
    "-1 & -1 & -1 & -1 & -1 \\\\\n",
    "\\end{bmatrix}$  \n",
    "What can you infer from the outputs?"
   ]
  },
  {
   "cell_type": "code",
   "execution_count": 2,
   "id": "4fa4a5a5-10c1-4351-9542-f1a176e52427",
   "metadata": {},
   "outputs": [],
   "source": [
    "img = cv.imread(\"images/native-bee.png\")\n",
    "\n",
    "kernel1 = np.array([[0, -1, 0],\n",
    "                  [-1, 5, -1],\n",
    "                  [0, -1, 0]])\n",
    "kernel2 = np.ones((5,5)) * -1\n",
    "kernel2[2][2] = 25\n",
    "dst1 = cv.filter2D(img, -1, kernel1)\n",
    "dst2 = cv.filter2D(img, -1, kernel2)\n",
    "\n",
    "display_images([img, dst1, dst2], (\"original\", \"sharpen(3X3)\",\"sharpen(5X5)\"))"
   ]
  },
  {
   "cell_type": "markdown",
   "id": "8889dcc2-62f9-4070-9f44-857b253fa59f",
   "metadata": {},
   "source": [
    "kernel1(3x3) is a smaller  sharpening kernel, which provides a moderate sharpening effect.\n",
    "kernel2(5x5) kernel with a stronger central value (25), will produce a overly sharpening effect."
   ]
  },
  {
   "cell_type": "markdown",
   "id": "1f543d18-440a-44cc-9909-b3a59f9345fd",
   "metadata": {},
   "source": [
    "##### 2. Apply different image smoothing techniques (e.g. average filter, Gaussian kernel and median filter) on 'noise_lena.jpg' and display the resulting images after the convolution. Comment on the outcomes and deduce the type of noise present on the image."
   ]
  },
  {
   "cell_type": "code",
   "execution_count": 3,
   "id": "a467574b-33ae-409f-848b-c2ac63b2b761",
   "metadata": {},
   "outputs": [],
   "source": [
    "img = cv.imread(\"images/noise_lena.jpg\")\n",
    "\n",
    "#Average Filter\n",
    "avg_filter = cv.blur(img, (5,5))\n",
    "#Gaussian Kernel\n",
    "gaussian_filter = cv.GaussianBlur(img, (5,5), 0)\n",
    "#Median Filter\n",
    "median_filter = cv.medianBlur(img, 5)\n",
    "display_images([img, avg_filter, gaussian_filter, median_filter], \n",
    "               (\"Original\", \"Average Filter\", \"Gaussian Filter\", \"Median Filter\"))\n"
   ]
  },
  {
   "cell_type": "markdown",
   "id": "cd59f439-74ea-4716-81af-11d4a41eeee8",
   "metadata": {},
   "source": [
    "Average Filter\n",
    "The image show slight blurry but still contains noise, meaning that the average filter is not completely remove the noise. The noise may be salt and pepper noise. Therefore, the average filter are not perform well since it used for averaging but not eliminating noise.\n",
    "\n",
    "Gaussian Filter\n",
    "Gaussian Filter perform badly in this noised image. Gaussion filter are specifically designed to reduce gaussion noise, so indicate that the noise is likely of a different type.\n",
    "\n",
    "Median Filter\n",
    "The median filter performs exceptionally well, removing all noise without significant degradation of the image. This strongly indicates that the primary noise type in the image is salt-and-pepper noise since median filter is particularly effective against this type of noise."
   ]
  },
  {
   "cell_type": "markdown",
   "id": "8eb0c95a-b4f7-4b8b-a075-423d9d0921be",
   "metadata": {},
   "source": [
    "##### 3. Write a program to *segment the boat and the people on it from the background*. Follow the instruction below:\n",
    "    - Use 'boat.jpg' as input.\n",
    "    - Apply Otsu thresholding.\n",
    "    - Draw bounding box to identify the region where the boat and people are located."
   ]
  },
  {
   "cell_type": "code",
   "execution_count": 17,
   "id": "dea18483-a054-464e-b8ff-d46684e26813",
   "metadata": {},
   "outputs": [],
   "source": [
    "img = cv.imread(\"images/boat.jpg\")\n",
    "display_image(\"color\",img)"
   ]
  },
  {
   "cell_type": "code",
   "execution_count": 28,
   "id": "705217b7-8336-46d3-a053-3bde36db6985",
   "metadata": {},
   "outputs": [],
   "source": [
    "gray = cv.cvtColor(img,cv.COLOR_BGR2GRAY)\n",
    "th = cv.threshold(gray, 0, 255, cv.THRESH_BINARY_INV | cv.THRESH_OTSU)[1]\n",
    "contours, _ = cv.findContours(th, cv.RETR_EXTERNAL, cv.CHAIN_APPROX_SIMPLE)\n",
    "contour_max_area = sorted(contours, key = cv.contourArea, reverse = True)[0]\n",
    "x,y,w,h = cv.boundingRect(contour_max_area)\n",
    "img_copy = img.copy()\n",
    "cv.rectangle(img_copy,(x,y),(x+w,y+h),(0,255,0),2)\n",
    "display_image(\"BoundingBox\",img_copy)"
   ]
  }
 ],
 "metadata": {
  "kernelspec": {
   "display_name": "Python 3 (ipykernel)",
   "language": "python",
   "name": "python3"
  },
  "language_info": {
   "codemirror_mode": {
    "name": "ipython",
    "version": 3
   },
   "file_extension": ".py",
   "mimetype": "text/x-python",
   "name": "python",
   "nbconvert_exporter": "python",
   "pygments_lexer": "ipython3",
   "version": "3.10.5"
  }
 },
 "nbformat": 4,
 "nbformat_minor": 5
}
